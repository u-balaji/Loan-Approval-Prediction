{
 "cells": [
  {
   "cell_type": "markdown",
   "metadata": {},
   "source": [
    "# Loan Prediction\n",
    "\n",
    "## Problem \n",
    "\n",
    "- A Company wants to automate the loan eligibility process (real time) based on customer detail provided while filling online application form. These details are Gender, Marital Status, Education, Number of Dependents, Income, Loan Amount, Credit History and others. To automate this process, they have given a problem to identify the customers segments, those are eligible for loan amount so that they can specifically target these customers. Here they have provided a data set.\n",
    "\n",
    "## Data\n",
    "\n",
    "- Variable Descriptions:\n",
    "\n",
    "\n",
    "| Variable          \t| Description                                    \t|\n",
    "|-------------------\t|------------------------------------------------\t|\n",
    "| Loan_ID           \t| Unique Loan ID                                 \t|\n",
    "| Gender            \t| Male/ Female                                   \t|\n",
    "| Married           \t| Applicant married (Y/N)                        \t|\n",
    "| Dependents        \t| Number of dependents                           \t|\n",
    "| Education         \t| Applicant Education (Graduate/ Under Graduate) \t|\n",
    "| Self_Employed     \t| Self employed (Y/N)                            \t|\n",
    "| ApplicantIncome   \t| Applicant income                               \t|\n",
    "| CoapplicantIncome \t| Coapplicant income                             \t|\n",
    "| LoanAmount        \t| Loan amount in thousands                       \t|\n",
    "| Loan_Amount_Term  \t| Term of loan in months                         \t|\n",
    "| Credit_History    \t| credit history meets guidelines                \t|\n",
    "| Property_Area     \t| Urban/ Semi Urban/ Rural                       \t|\n",
    "| Loan_Status       \t| Loan approved (Y/N)                            \t|\n",
    "\n",
    "- Rows: 615\n",
    "- Source: Datahack\n",
    
   ]
  },
  {
   "cell_type": "code",
   "execution_count": 24,
   "metadata": {},
   "outputs": [
    {
     "name": "stdout",
     "output_type": "stream",
     "text": [
      "Requirement already satisfied: sklearn in c:\\users\\balaji\\anaconda3\\lib\\site-packages (0.0)\n",
      "Requirement already satisfied: scikit-learn in c:\\users\\balaji\\anaconda3\\lib\\site-packages (from sklearn) (1.0.2)\n",
      "Requirement already satisfied: joblib>=0.11 in c:\\users\\balaji\\anaconda3\\lib\\site-packages (from scikit-learn->sklearn) (1.1.0)\n",
      "Requirement already satisfied: scipy>=1.1.0 in c:\\users\\balaji\\anaconda3\\lib\\site-packages (from scikit-learn->sklearn) (1.7.3)\n",
      "Requirement already satisfied: numpy>=1.14.6 in c:\\users\\balaji\\anaconda3\\lib\\site-packages (from scikit-learn->sklearn) (1.21.5)\n",
      "Requirement already satisfied: threadpoolctl>=2.0.0 in c:\\users\\balaji\\anaconda3\\lib\\site-packages (from scikit-learn->sklearn) (2.2.0)\n",
      "Note: you may need to restart the kernel to use updated packages.\n"
     ]
    }
   ],
   "source": [
    "pip install sklearn"
   ]
  },
  {
   "cell_type": "code",
   "execution_count": 1,
   "metadata": {},
   "outputs": [],
   "source": [
    "# Importing Library\n",
    "import pandas as pd\n",
    "import numpy as np\n",
    "from sklearn import preprocessing\n",
    "from sklearn.preprocessing import LabelEncoder\n",
    "\n",
    "# Reading the training dataset in a dataframe using Pandas\n",
    "df = pd.read_csv(\"train_kaggle.csv\")\n",
    "\n",
    "# Reading the test dataset in a dataframe using Pandas\n",
    "test = pd.read_csv(\"test_kaggle.csv\")\n"
   ]
  },
  {
   "cell_type": "code",
   "execution_count": 2,
   "metadata": {},
   "outputs": [
    {
     "data": {
      "text/html": [
       "<div>\n",
       "<style scoped>\n",
       "    .dataframe tbody tr th:only-of-type {\n",
       "        vertical-align: middle;\n",
       "    }\n",
       "\n",
       "    .dataframe tbody tr th {\n",
       "        vertical-align: top;\n",
       "    }\n",
       "\n",
       "    .dataframe thead th {\n",
       "        text-align: right;\n",
       "    }\n",
       "</style>\n",
       "<table border=\"1\" class=\"dataframe\">\n",
       "  <thead>\n",
       "    <tr style=\"text-align: right;\">\n",
       "      <th></th>\n",
       "      <th>Loan_ID</th>\n",
       "      <th>Gender</th>\n",
       "      <th>Married</th>\n",
       "      <th>Dependents</th>\n",
       "      <th>Education</th>\n",
       "      <th>Self_Employed</th>\n",
       "      <th>ApplicantIncome</th>\n",
       "      <th>CoapplicantIncome</th>\n",
       "      <th>LoanAmount</th>\n",
       "      <th>Loan_Amount_Term</th>\n",
       "      <th>Credit_History</th>\n",
       "      <th>Property_Area</th>\n",
       "      <th>Loan_Status</th>\n",
       "    </tr>\n",
       "  </thead>\n",
       "  <tbody>\n",
       "    <tr>\n",
       "      <th>0</th>\n",
       "      <td>LP001002</td>\n",
       "      <td>Male</td>\n",
       "      <td>No</td>\n",
       "      <td>0</td>\n",
       "      <td>Graduate</td>\n",
       "      <td>No</td>\n",
       "      <td>5849</td>\n",
       "      <td>0.0</td>\n",
       "      <td>NaN</td>\n",
       "      <td>360.0</td>\n",
       "      <td>1.0</td>\n",
       "      <td>Urban</td>\n",
       "      <td>Y</td>\n",
       "    </tr>\n",
       "    <tr>\n",
       "      <th>1</th>\n",
       "      <td>LP001003</td>\n",
       "      <td>Male</td>\n",
       "      <td>Yes</td>\n",
       "      <td>1</td>\n",
       "      <td>Graduate</td>\n",
       "      <td>No</td>\n",
       "      <td>4583</td>\n",
       "      <td>1508.0</td>\n",
       "      <td>128.0</td>\n",
       "      <td>360.0</td>\n",
       "      <td>1.0</td>\n",
       "      <td>Rural</td>\n",
       "      <td>N</td>\n",
       "    </tr>\n",
       "    <tr>\n",
       "      <th>2</th>\n",
       "      <td>LP001005</td>\n",
       "      <td>Male</td>\n",
       "      <td>Yes</td>\n",
       "      <td>0</td>\n",
       "      <td>Graduate</td>\n",
       "      <td>Yes</td>\n",
       "      <td>3000</td>\n",
       "      <td>0.0</td>\n",
       "      <td>66.0</td>\n",
       "      <td>360.0</td>\n",
       "      <td>1.0</td>\n",
       "      <td>Urban</td>\n",
       "      <td>Y</td>\n",
       "    </tr>\n",
       "    <tr>\n",
       "      <th>3</th>\n",
       "      <td>LP001006</td>\n",
       "      <td>Male</td>\n",
       "      <td>Yes</td>\n",
       "      <td>0</td>\n",
       "      <td>Not Graduate</td>\n",
       "      <td>No</td>\n",
       "      <td>2583</td>\n",
       "      <td>2358.0</td>\n",
       "      <td>120.0</td>\n",
       "      <td>360.0</td>\n",
       "      <td>1.0</td>\n",
       "      <td>Urban</td>\n",
       "      <td>Y</td>\n",
       "    </tr>\n",
       "    <tr>\n",
       "      <th>4</th>\n",
       "      <td>LP001008</td>\n",
       "      <td>Male</td>\n",
       "      <td>No</td>\n",
       "      <td>0</td>\n",
       "      <td>Graduate</td>\n",
       "      <td>No</td>\n",
       "      <td>6000</td>\n",
       "      <td>0.0</td>\n",
       "      <td>141.0</td>\n",
       "      <td>360.0</td>\n",
       "      <td>1.0</td>\n",
       "      <td>Urban</td>\n",
       "      <td>Y</td>\n",
       "    </tr>\n",
       "    <tr>\n",
       "      <th>5</th>\n",
       "      <td>LP001011</td>\n",
       "      <td>Male</td>\n",
       "      <td>Yes</td>\n",
       "      <td>2</td>\n",
       "      <td>Graduate</td>\n",
       "      <td>Yes</td>\n",
       "      <td>5417</td>\n",
       "      <td>4196.0</td>\n",
       "      <td>267.0</td>\n",
       "      <td>360.0</td>\n",
       "      <td>1.0</td>\n",
       "      <td>Urban</td>\n",
       "      <td>Y</td>\n",
       "    </tr>\n",
       "    <tr>\n",
       "      <th>6</th>\n",
       "      <td>LP001013</td>\n",
       "      <td>Male</td>\n",
       "      <td>Yes</td>\n",
       "      <td>0</td>\n",
       "      <td>Not Graduate</td>\n",
       "      <td>No</td>\n",
       "      <td>2333</td>\n",
       "      <td>1516.0</td>\n",
       "      <td>95.0</td>\n",
       "      <td>360.0</td>\n",
       "      <td>1.0</td>\n",
       "      <td>Urban</td>\n",
       "      <td>Y</td>\n",
       "    </tr>\n",
       "    <tr>\n",
       "      <th>7</th>\n",
       "      <td>LP001014</td>\n",
       "      <td>Male</td>\n",
       "      <td>Yes</td>\n",
       "      <td>3+</td>\n",
       "      <td>Graduate</td>\n",
       "      <td>No</td>\n",
       "      <td>3036</td>\n",
       "      <td>2504.0</td>\n",
       "      <td>158.0</td>\n",
       "      <td>360.0</td>\n",
       "      <td>0.0</td>\n",
       "      <td>Semiurban</td>\n",
       "      <td>N</td>\n",
       "    </tr>\n",
       "    <tr>\n",
       "      <th>8</th>\n",
       "      <td>LP001018</td>\n",
       "      <td>Male</td>\n",
       "      <td>Yes</td>\n",
       "      <td>2</td>\n",
       "      <td>Graduate</td>\n",
       "      <td>No</td>\n",
       "      <td>4006</td>\n",
       "      <td>1526.0</td>\n",
       "      <td>168.0</td>\n",
       "      <td>360.0</td>\n",
       "      <td>1.0</td>\n",
       "      <td>Urban</td>\n",
       "      <td>Y</td>\n",
       "    </tr>\n",
       "    <tr>\n",
       "      <th>9</th>\n",
       "      <td>LP001020</td>\n",
       "      <td>Male</td>\n",
       "      <td>Yes</td>\n",
       "      <td>1</td>\n",
       "      <td>Graduate</td>\n",
       "      <td>No</td>\n",
       "      <td>12841</td>\n",
       "      <td>10968.0</td>\n",
       "      <td>349.0</td>\n",
       "      <td>360.0</td>\n",
       "      <td>1.0</td>\n",
       "      <td>Semiurban</td>\n",
       "      <td>N</td>\n",
       "    </tr>\n",
       "  </tbody>\n",
       "</table>\n",
       "</div>"
      ],
      "text/plain": [
       "    Loan_ID Gender Married Dependents     Education Self_Employed  \\\n",
       "0  LP001002   Male      No          0      Graduate            No   \n",
       "1  LP001003   Male     Yes          1      Graduate            No   \n",
       "2  LP001005   Male     Yes          0      Graduate           Yes   \n",
       "3  LP001006   Male     Yes          0  Not Graduate            No   \n",
       "4  LP001008   Male      No          0      Graduate            No   \n",
       "5  LP001011   Male     Yes          2      Graduate           Yes   \n",
       "6  LP001013   Male     Yes          0  Not Graduate            No   \n",
       "7  LP001014   Male     Yes         3+      Graduate            No   \n",
       "8  LP001018   Male     Yes          2      Graduate            No   \n",
       "9  LP001020   Male     Yes          1      Graduate            No   \n",
       "\n",
       "   ApplicantIncome  CoapplicantIncome  LoanAmount  Loan_Amount_Term  \\\n",
       "0             5849                0.0         NaN             360.0   \n",
       "1             4583             1508.0       128.0             360.0   \n",
       "2             3000                0.0        66.0             360.0   \n",
       "3             2583             2358.0       120.0             360.0   \n",
       "4             6000                0.0       141.0             360.0   \n",
       "5             5417             4196.0       267.0             360.0   \n",
       "6             2333             1516.0        95.0             360.0   \n",
       "7             3036             2504.0       158.0             360.0   \n",
       "8             4006             1526.0       168.0             360.0   \n",
       "9            12841            10968.0       349.0             360.0   \n",
       "\n",
       "   Credit_History Property_Area Loan_Status  \n",
       "0             1.0         Urban           Y  \n",
       "1             1.0         Rural           N  \n",
       "2             1.0         Urban           Y  \n",
       "3             1.0         Urban           Y  \n",
       "4             1.0         Urban           Y  \n",
       "5             1.0         Urban           Y  \n",
       "6             1.0         Urban           Y  \n",
       "7             0.0     Semiurban           N  \n",
       "8             1.0         Urban           Y  \n",
       "9             1.0     Semiurban           N  "
      ]
     },
     "execution_count": 2,
     "metadata": {},
     "output_type": "execute_result"
    }
   ],
   "source": [
    "# First 10 Rows of training Dataset\n",
    "\n",
    "df.head(10)"
   ]
  },
  {
   "cell_type": "code",
   "execution_count": 3,
   "metadata": {},
   "outputs": [],
   "source": [
    "# Store total number of observation in training dataset\n",
    "df_length =len(df)\n",
    "\n",
    "# Store total number of columns in testing data set\n",
    "test_col = len(test.columns)\n"
   ]
  },
  {
   "cell_type": "markdown",
   "metadata": {},
   "source": [
    "# Understanding the various features (columns) of the dataset."
   ]
  },
  {
   "cell_type": "code",
   "execution_count": 4,
   "metadata": {},
   "outputs": [
    {
     "data": {
      "text/html": [
       "<div>\n",
       "<style scoped>\n",
       "    .dataframe tbody tr th:only-of-type {\n",
       "        vertical-align: middle;\n",
       "    }\n",
       "\n",
       "    .dataframe tbody tr th {\n",
       "        vertical-align: top;\n",
       "    }\n",
       "\n",
       "    .dataframe thead th {\n",
       "        text-align: right;\n",
       "    }\n",
       "</style>\n",
       "<table border=\"1\" class=\"dataframe\">\n",
       "  <thead>\n",
       "    <tr style=\"text-align: right;\">\n",
       "      <th></th>\n",
       "      <th>ApplicantIncome</th>\n",
       "      <th>CoapplicantIncome</th>\n",
       "      <th>LoanAmount</th>\n",
       "      <th>Loan_Amount_Term</th>\n",
       "      <th>Credit_History</th>\n",
       "    </tr>\n",
       "  </thead>\n",
       "  <tbody>\n",
       "    <tr>\n",
       "      <th>count</th>\n",
       "      <td>614.000000</td>\n",
       "      <td>614.000000</td>\n",
       "      <td>592.000000</td>\n",
       "      <td>600.00000</td>\n",
       "      <td>564.000000</td>\n",
       "    </tr>\n",
       "    <tr>\n",
       "      <th>mean</th>\n",
       "      <td>5403.459283</td>\n",
       "      <td>1621.245798</td>\n",
       "      <td>146.412162</td>\n",
       "      <td>342.00000</td>\n",
       "      <td>0.842199</td>\n",
       "    </tr>\n",
       "    <tr>\n",
       "      <th>std</th>\n",
       "      <td>6109.041673</td>\n",
       "      <td>2926.248369</td>\n",
       "      <td>85.587325</td>\n",
       "      <td>65.12041</td>\n",
       "      <td>0.364878</td>\n",
       "    </tr>\n",
       "    <tr>\n",
       "      <th>min</th>\n",
       "      <td>150.000000</td>\n",
       "      <td>0.000000</td>\n",
       "      <td>9.000000</td>\n",
       "      <td>12.00000</td>\n",
       "      <td>0.000000</td>\n",
       "    </tr>\n",
       "    <tr>\n",
       "      <th>25%</th>\n",
       "      <td>2877.500000</td>\n",
       "      <td>0.000000</td>\n",
       "      <td>100.000000</td>\n",
       "      <td>360.00000</td>\n",
       "      <td>1.000000</td>\n",
       "    </tr>\n",
       "    <tr>\n",
       "      <th>50%</th>\n",
       "      <td>3812.500000</td>\n",
       "      <td>1188.500000</td>\n",
       "      <td>128.000000</td>\n",
       "      <td>360.00000</td>\n",
       "      <td>1.000000</td>\n",
       "    </tr>\n",
       "    <tr>\n",
       "      <th>75%</th>\n",
       "      <td>5795.000000</td>\n",
       "      <td>2297.250000</td>\n",
       "      <td>168.000000</td>\n",
       "      <td>360.00000</td>\n",
       "      <td>1.000000</td>\n",
       "    </tr>\n",
       "    <tr>\n",
       "      <th>max</th>\n",
       "      <td>81000.000000</td>\n",
       "      <td>41667.000000</td>\n",
       "      <td>700.000000</td>\n",
       "      <td>480.00000</td>\n",
       "      <td>1.000000</td>\n",
       "    </tr>\n",
       "  </tbody>\n",
       "</table>\n",
       "</div>"
      ],
      "text/plain": [
       "       ApplicantIncome  CoapplicantIncome  LoanAmount  Loan_Amount_Term  \\\n",
       "count       614.000000         614.000000  592.000000         600.00000   \n",
       "mean       5403.459283        1621.245798  146.412162         342.00000   \n",
       "std        6109.041673        2926.248369   85.587325          65.12041   \n",
       "min         150.000000           0.000000    9.000000          12.00000   \n",
       "25%        2877.500000           0.000000  100.000000         360.00000   \n",
       "50%        3812.500000        1188.500000  128.000000         360.00000   \n",
       "75%        5795.000000        2297.250000  168.000000         360.00000   \n",
       "max       81000.000000       41667.000000  700.000000         480.00000   \n",
       "\n",
       "       Credit_History  \n",
       "count      564.000000  \n",
       "mean         0.842199  \n",
       "std          0.364878  \n",
       "min          0.000000  \n",
       "25%          1.000000  \n",
       "50%          1.000000  \n",
       "75%          1.000000  \n",
       "max          1.000000  "
      ]
     },
     "execution_count": 4,
     "metadata": {},
     "output_type": "execute_result"
    }
   ],
   "source": [
    "# Summary of numerical variables for training data set\n",
    "\n",
    "df.describe()"
   ]
  },
  {
   "cell_type": "markdown",
   "metadata": {},
   "source": [
    "1. For the non-numerical values (e.g. Property_Area, Credit_History etc.), we can look at frequency distribution to understand whether they make sense or not."
   ]
  },
  {
   "cell_type": "code",
   "execution_count": 5,
   "metadata": {},
   "outputs": [
    {
     "data": {
      "text/plain": [
       "Semiurban    233\n",
       "Urban        202\n",
       "Rural        179\n",
       "Name: Property_Area, dtype: int64"
      ]
     },
     "execution_count": 5,
     "metadata": {},
     "output_type": "execute_result"
    }
   ],
   "source": [
    "# Get the unique values and their frequency of variable Property_Area\n",
    "\n",
    "df['Property_Area'].value_counts()"
   ]
  },
  {
   "cell_type": "markdown",
   "metadata": {},
   "source": [
    "2. Understanding Distribution of Numerical Variables\n",
    "    - ApplicantIncome\n",
    "    - LoanAmount"
   ]
  },
  {
   "cell_type": "code",
   "execution_count": 6,
   "metadata": {},
   "outputs": [
    {
     "data": {
      "text/plain": [
       "<AxesSubplot:>"
      ]
     },
     "execution_count": 6,
     "metadata": {},
     "output_type": "execute_result"
    },
    {
     "data": {
      "image/png": "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\n",
      "text/plain": [
       "<Figure size 432x288 with 1 Axes>"
      ]
     },
     "metadata": {
      "needs_background": "light"
     },
     "output_type": "display_data"
    }
   ],
   "source": [
    "# Box Plot for understanding the distributions and to observe the outliers.\n",
    "\n",
    "%matplotlib inline\n",
    "\n",
    "# Histogram of variable ApplicantIncome\n",
    "\n",
    "df['ApplicantIncome'].hist()"
   ]
  },
  {
   "cell_type": "code",
   "execution_count": 7,
   "metadata": {},
   "outputs": [
    {
     "data": {
      "text/plain": [
       "<AxesSubplot:>"
      ]
     },
     "execution_count": 7,
     "metadata": {},
     "output_type": "execute_result"
    },
    {
     "data": {
      "image/png": "iVBORw0KGgoAAAANSUhEUgAAAYQAAAD4CAYAAADsKpHdAAAAOXRFWHRTb2Z0d2FyZQBNYXRwbG90bGliIHZlcnNpb24zLjUuMSwgaHR0cHM6Ly9tYXRwbG90bGliLm9yZy/YYfK9AAAACXBIWXMAAAsTAAALEwEAmpwYAAAeNUlEQVR4nO3dcZDc5X3f8fdHdyKSDSIgWzdCJyylyPbCtSbhrKjxTXvnswU0mQhmxEQqFFG2o5YhKm7TwSI3Uzf13BQ8TUmIA66GjSUIXVBkYxTHGFTpdtxrhGRh4wixZrhatjgkgzFYlggI3enbP/ZZsnc63e1Jq9tb9HnN7Px++/39nmef37Doe8/z/H77KCIwMzObUe8GmJnZ9OCEYGZmgBOCmZklTghmZgY4IZiZWdJc7wacrg996EOxaNGiejfD7CRvvfUWH/zgB+vdDLMxPfvss69HxIfHOtawCWHRokXs2bOn3s0wO0mhUKCzs7PezTAbk6SfnOqYh4zMzAxwQjAzs8QJwczMACcEMzNLnBDMzAxwQjCrmXw+T1tbG93d3bS1tZHP5+vdJLNJadjbTs2mk3w+T09PD7lcjuHhYZqamshmswCsXr26zq0zq457CGY10NvbSy6Xo6uri+bmZrq6usjlcvT29ta7aWZVqyohSPoPkvZJel5SXtIsSRdL2ibppbS9qOL8uyQNSHpR0tUV8ask7U3H7pOkFP8VSY+l+C5Ji2p+pWZnUbFYpKOjY0Sso6ODYrFYpxaZTd6ECUHSAuDfA+0R0QY0AauA9cD2iFgCbE/vkXR5On4FcA1wv6SmVN0DwFpgSXpdk+JZ4M2IuAy4F7inJldnNkUymQz9/f0jYv39/WQymTq1yGzyqh0yagZmS2oGPgAcBFYAm9LxTcB1aX8F8GhEHIuI/cAAsFTSfGBOROyM0jJtD40qU65rC9Bd7j2YNYKenh6y2Sx9fX0MDQ3R19dHNpulp6en3k0zq9qEk8oR8Yqk/w4cAN4Gno6IpyW1RMShdM4hSfNSkQXAMxVVDKbY8bQ/Ol4u83Kqa0jSYWAu8HplWyStpdTDoKWlhUKhMIlLNTt75s+fz4033sitt97KgQMHuPTSS7npppuYP3++v6fWMCZMCGluYAWwGPgF8FeSbhqvyBixGCc+XpmRgYgNwAaA9vb28A+I2XTS2dnJF7/4Rf+4nTWsaoaMPgPsj4ifRcRx4OvAbwGvpmEg0va1dP4gsLCifCulIabBtD86PqJMGpa6EHjjdC7IzMxOTzUJ4QCwTNIH0rh+N1AEtgJr0jlrgCfS/lZgVbpzaDGlyePdaXjpiKRlqZ6bR5Up17US2JHmGczMbIpUM4ewS9IW4HvAEPB9SsM25wObJWUpJY0b0vn7JG0GXkjn3x4Rw6m624CNwGzgyfQCyAEPSxqg1DNYVZOrMzOzqlX1pHJEfAH4wqjwMUq9hbHO7wVOeiInIvYAbWPE3yElFDMzqw8/qWxmZoATgpmZJU4IZmYGOCGYmVnihGBmZoATgpmZJU4IZmYGOCGYmVnihGBmZoATgpmZJU4IZmYGOCGYmVnihGBmZoATgpmZJU4IZmYGVJEQJH1M0nMVr19K+pykiyVtk/RS2l5UUeYuSQOSXpR0dUX8Kkl707H70spppNXVHkvxXZIWnZWrNTOzU5owIUTEixFxZURcCVwF/D3wOLAe2B4RS4Dt6T2SLqe04tkVwDXA/ZKaUnUPAGspLau5JB0HyAJvRsRlwL3APTW5OjMzq9pkh4y6gf8XET8BVgCbUnwTcF3aXwE8GhHHImI/MAAslTQfmBMRO9N6yQ+NKlOuawvQXe49mJnZ1KhqCc0Kq4B82m+JiEMAEXFI0rwUXwA8U1FmMMWOp/3R8XKZl1NdQ5IOA3OB1ys/XNJaSj0MWlpaKBQKk2y+2dl39OhRfzetIVWdECSdB/wucNdEp44Ri3Hi45UZGYjYAGwAaG9vj87OzgmaYjb1CoUC/m5aI5rMkNG1wPci4tX0/tU0DETavpbig8DCinKtwMEUbx0jPqKMpGbgQuCNSbTNzMzO0GQSwmr+YbgIYCuwJu2vAZ6oiK9Kdw4tpjR5vDsNLx2RtCzND9w8qky5rpXAjjTPYGZmU6SqISNJHwA+C/zbivDdwGZJWeAAcANAROyTtBl4ARgCbo+I4VTmNmAjMBt4Mr0AcsDDkgYo9QxWncE1mZnZaagqIUTE31Oa5K2M/ZzSXUdjnd8L9I4R3wO0jRF/h5RQzMysPvykspmZAU4IZmaWOCGYmRnghGBmZokTgpmZAU4IZmaWOCGYmRnghGBWM/l8nra2Nrq7u2lrayOfz09cyGwameyvnZrZGPL5PD09PeRyOYaHh2lqaiKbzQKwevXqOrfOrDruIZjVQG9vL7lcjq6uLpqbm+nq6iKXy9Hbe9ID+2bTlhOCWQ0Ui0U6OjpGxDo6OigWi3VqkdnkOSGY1UAmk6G/v39ErL+/n0wmU6cWmU2eE4JZDfT09JDNZunr62NoaIi+vj6y2Sw9PT31bppZ1TypbFYD5YnjdevWUSwWyWQy9Pb2ekLZGooadR2a9vb22LNnT72bYXYSL6Fp05mkZyOifaxjVQ0ZSfpVSVsk/VBSUdI/lXSxpG2SXkrbiyrOv0vSgKQXJV1dEb9K0t507L60chppdbXHUnyXpEVneM1mZjZJ1c4h/Cnw7Yj4OPAJoAisB7ZHxBJge3qPpMsprXh2BXANcL+kplTPA8BaSstqLknHAbLAmxFxGXAvcM8ZXpeZmU3ShAlB0hzgn1Fa5pKIeDcifgGsADal0zYB16X9FcCjEXEsIvYDA8BSSfOBORGxM62X/NCoMuW6tgDd5d6DmZlNjWp6CL8G/Az4qqTvS3pQ0geBlog4BJC289L5C4CXK8oPptiCtD86PqJMRAwBhxm1ZKeZmZ1d1dxl1Az8BrAuInZJ+lPS8NApjPWXfYwTH6/MyIqltZSGnGhpaaFQKIzTDLP6OHr0qL+b1pCqSQiDwGBE7Ervt1BKCK9Kmh8Rh9Jw0GsV5y+sKN8KHEzx1jHilWUGJTUDFwJvjG5IRGwANkDpLiPfyWHTke8yskY14ZBRRPwUeFnSx1KoG3gB2AqsSbE1wBNpfyuwKt05tJjS5PHuNKx0RNKyND9w86gy5bpWAjuiUe+HNTNrUNU+mLYOeETSecCPgH9NKZlslpQFDgA3AETEPkmbKSWNIeD2iBhO9dwGbARmA0+mF5QmrB+WNECpZ7DqDK/LzMwmqaqEEBHPAWM9yNB9ivN7gZN+5jEi9gBtY8TfISUUMzOrD/+WkZmZAU4IZmaWOCGYmRnghGBmZokTgpmZAU4IZmaWOCGYmRnghGBmZokTgpmZAU4IZmaWOCGYmRnghGBmZokTglmN5PN52tra6O7upq2tjXw+X+8mmU1KtT9/bWbjyOfz9PT0kMvlGB4epqmpiWw2C8Dq1avr3Dqz6riHYFYDvb295HI5urq6aG5upquri1wuR2/vSb8CbzZtOSGY1UCxWKSjo2NErKOjg2KxWKcWmU1eVQlB0o8l7ZX0nKQ9KXaxpG2SXkrbiyrOv0vSgKQXJV1dEb8q1TMg6b60lCZpuc3HUnyXpEU1vk6zsyqTydDf3z8i1t/fTyaTqVOLzCZvMj2Eroi4MiLKK6etB7ZHxBJge3qPpMspLYF5BXANcL+kplTmAWAtpXWWl6TjAFngzYi4DLgXuOf0L8ls6vX09JDNZunr62NoaIi+vj6y2Sw9PT31bppZ1c5kUnkF0Jn2NwEF4PMp/mhEHAP2p3WSl0r6MTAnInYCSHoIuI7SusorgP+S6toCfFmSIiLOoH1mU6Y8cbxu3TqKxSKZTIbe3l5PKFtDqTYhBPC0pAD+Z0RsAFoi4hBARBySNC+duwB4pqLsYIodT/uj4+UyL6e6hiQdBuYCr1c2QtJaSj0MWlpaKBQKVTbf7OybP38+X/7ylzl69Cjnn38+gL+j1lCqTQifioiD6R/9bZJ+OM65GiMW48THKzMyUEpEGwDa29ujs7Nz3Eab1UOhUMDfTWtEVc0hRMTBtH0NeBxYCrwqaT5A2r6WTh8EFlYUbwUOpnjrGPERZSQ1AxcCb0z+cszM7HRNmBAkfVDSBeV9YDnwPLAVWJNOWwM8kfa3AqvSnUOLKU0e707DS0ckLUt3F908qky5rpXADs8fmJlNrWqGjFqAx9Mdos3A/4qIb0v6LrBZUhY4ANwAEBH7JG0GXgCGgNsjYjjVdRuwEZhNaTL5yRTPAQ+nCeg3KN2lZGZmU2jChBARPwI+MUb850D3Kcr0Aic9ohkRe4C2MeLvkBKKmZnVh59UNjMzwAnBzMwSJwQzMwOcEMzMLHFCMDMzwAnBzMwSJwQzMwOcEMzMLHFCMDMzwAnBzMwSJwQzMwOcEMzMLHFCMDMzwAnBzMwSJwQzMwMmkRAkNUn6vqRvpvcXS9om6aW0vaji3LskDUh6UdLVFfGrJO1Nx+5LK6eRVld7LMV3SVpUw2s0mxL5fJ62tja6u7tpa2sjn8/Xu0lmk1LNimlldwBFYE56vx7YHhF3S1qf3n9e0uWUVjy7ArgE+N+SPppWTXsAWAs8A3wLuIbSqmlZ4M2IuEzSKuAe4PfO+OrMpkg+n6enp4dcLsfw8DBNTU1ks1kAVq9eXefWmVWnqh6CpFbgt4EHK8IrgE1pfxNwXUX80Yg4FhH7gQFgqaT5wJyI2JnWS35oVJlyXVuA7nLvwawR9Pb2ksvl6Orqorm5ma6uLnK5HL29Jy0caDZtVdtD+BPgTuCCilhLRBwCiIhDkual+AJKPYCywRQ7nvZHx8tlXk51DUk6DMwFXq9shKS1lHoYtLS0UCgUqmy+2dlVLBbZtm0bt956KwcOHODSSy9l9erVFItFf0+tYUyYECT9DvBaRDwrqbOKOsf6yz7GiY9XZmQgYgOwAaC9vT06O6tpjtnZd8kll7Bx40YeeeSR94aMbrzxRi655BL8PbVGUU0P4VPA70r6F8AsYI6kvwRelTQ/9Q7mA6+l8weBhRXlW4GDKd46RryyzKCkZuBC4I3TvCazuiiNhJ76vdl0N+EcQkTcFRGtEbGI0mTxjoi4CdgKrEmnrQGeSPtbgVXpzqHFwBJgdxpeOiJpWZofuHlUmXJdK9Nn+P8maxgHDx7k+uuv59prr+Wzn/0s1157Lddffz0HDx6cuLDZNDGZu4xGuxvYLCkLHABuAIiIfZI2Ay8AQ8Dt6Q4jgNuAjcBsSncXPZniOeBhSQOUegarzqBdZlPukksu4Rvf+AZPPvnkSUNGZo1iUgkhIgpAIe3/HOg+xXm9wEm3V0TEHqBtjPg7pIRi1qg8ZGSN7kx6CGaWHDx4kI0bN7Ju3TqKxSKZTIYvfelL3HLLLfVumlnV/NMVZjWQyWRobW3l+eefZ/v27Tz//PO0traSyWTq3TSzqjkhmNVAT08P2WyWvr4+hoaG6OvrI5vN0tPTU++mmVXNQ0ZmNVD+eYrKIaPe3l7/bIU1FDXqxFd7e3vs2bOn3s0wO0mhUPDDaDZtSXo2ItrHOuYhIzMzA5wQzMwscUIwqxGvh2CNzpPKZjXg9RDs/cA9BLMa8HoI9n7ghGBWA8VikY6OjhGxjo4OisVinVpkNnlOCGY1kMlk6O/vHxHr7+/3k8rWUJwQzGrATyrb+4Enlc1qwE8q2/uBn1Q2qzE/qWzTmZ9UNjOzCU2YECTNkrRb0g8k7ZP0Ryl+saRtkl5K24sqytwlaUDSi5KurohfJWlvOnZfWkqTtNzmYym+S9Kis3CtZmY2jmp6CMeAT0fEJ4ArgWskLQPWA9sjYgmwPb1H0uWUlsC8ArgGuF9SU6rrAWAtpXWWl6TjAFngzYi4DLgXuOfML83MzCZjwoQQJUfT25npFcAKYFOKbwKuS/srgEcj4lhE7AcGgKWS5gNzImJnlCYuHhpVplzXFqC73HswM7OpUdVdRukv/GeBy4A/j4hdkloi4hBARBySNC+dvgB4pqL4YIodT/uj4+UyL6e6hiQdBuYCr49qx1pKPQxaWlooFApVXqbZ1Dl69Ki/m9aQqkoIETEMXCnpV4HHJbWNc/pYf9nHOPHxyoxuxwZgA5TuMvKdHDYd+S4ja1STussoIn4BFCiN/b+ahoFI29fSaYPAwopircDBFG8dIz6ijKRm4ELgjcm0zczMzkw1dxl9OPUMkDQb+AzwQ2ArsCadtgZ4Iu1vBValO4cWU5o83p2Gl45IWpbmB24eVaZc10pgRzTqAxJmZg2qmiGj+cCmNI8wA9gcEd+UtBPYLCkLHABuAIiIfZI2Ay8AQ8DtacgJ4DZgIzAbeDK9AHLAw5IGKPUMVtXi4szMrHoTJoSI+Dvg18eI/xzoPkWZXuCk3/2NiD3ASfMPEfEOKaGYmVl9+EllMzMDnBDMzCxxQjAzM8AJwczMEicEMzMDnBDMzCxxQjCrkXw+T1tbG93d3bS1tZHP5+vdJLNJ8RKaZjWQz+fp6ekhl8sxPDxMU1MT2WwWwMtoWsNwD8GsBnp7e8nlcnR1ddHc3ExXVxe5XI7e3pOezzSbtpwQzGqgWCzS0dExItbR0UGxWKxTi8wmzwnBrAYymQz9/f0jYv39/WQymTq1yGzynBDMaqCnp4dsNktfXx9DQ0P09fWRzWbp6empd9PMquZJZbMaKE8cr1u3jmKxSCaTobe31xPK1lDcQzAzM8AJwawm8vk8d9xxB2+99RYRwVtvvcUdd9zhZxGsoVSzYtpCSX2SipL2SbojxS+WtE3SS2l7UUWZuyQNSHpR0tUV8ask7U3H7ksrp5FWV3ssxXdJWnQWrtXsrLnzzjs5evQor7zyChHBK6+8wtGjR7nzzjvr3TSzqlXTQxgC/iAiMsAy4HZJlwPrge0RsQTYnt6Tjq0CrqC09vL9abU1gAeAtZSW1VySjgNkgTcj4jLgXuCeGlyb2ZQZHBzk7bffZu7cucyYMYO5c+fy9ttvMzg4WO+mmVVtwoQQEYci4ntp/whQBBYAK4BN6bRNwHVpfwXwaEQci4j9wACwVNJ8YE5E7EzrJT80qky5ri1Ad7n3YNYoZs2axaxZs07aN2sUk7rLKA3l/DqwC2iJiENQShqS5qXTFgDPVBQbTLHjaX90vFzm5VTXkKTDwFzg9VGfv5ZSD4OWlhYKhcJkmm92Vh07doxrr72WT3/60+zYsYOvfOUrAP6eWsOoOiFIOh/4GvC5iPjlOH/Aj3UgxomPV2ZkIGIDsAGgvb09Ojs7J2i12dRpbm7mwQcf5IEHHmDmzJk0Nzdz/Phx/D21RlHVXUaSZlJKBo9ExNdT+NU0DETavpbig8DCiuKtwMEUbx0jPqKMpGbgQuCNyV6MWT0dP36c4eFhAIaHhzl+/HidW2Q2OdXcZSQgBxQj4n9UHNoKrEn7a4AnKuKr0p1DiylNHu9Ow0tHJC1Ldd48qky5rpXAjjTPYNYQmppK902cOHFixLYcN2sE1QwZfQr4V8BeSc+l2B8CdwObJWWBA8ANABGxT9Jm4AVKdyjdHhHDqdxtwEZgNvBkekEp4TwsaYBSz2DVmV2W2dQaHh5GEjNmzHjv569PnDjxXo/BrBGoUf8Qb29vjz179tS7GWYASOK8884jIjh+/DgzZ85EEu+++y6N+v+YvT9JejYi2sc65t8yMquRd9999719zx9YI/JPV5iZGeCEYFZTM2bMGLE1ayT+1prV0Lx585gxYwbz5s2b+GSzacZzCGY19NOf/nTE1qyRuIdgZmaAE4KZmSVOCGY1MvqpZD+lbI3GCcGsRk6cOMHMmTMBmDlz5ns/X2HWKDypbFYj5aeUwQ+mWWNyD8HMzAAnBDMzS5wQzMwMcEIwM7PECcHMzAAnBDMzS6pZQvMvJL0m6fmK2MWStkl6KW0vqjh2l6QBSS9KuroifpWkvenYfWkZTdJSm4+l+C5Ji2p8jWZTZtasWSO2Zo2kmh7CRuCaUbH1wPaIWAJsT++RdDml5S+vSGXul1R+XPMBYC2lNZaXVNSZBd6MiMuAe4F7TvdizOqtvEhO5WI5Zo1iwoQQEd+htM5xpRXAprS/CbiuIv5oRByLiP3AALBU0nxgTkTsjNJ6gg+NKlOuawvQXe49mE0HkiZ8lZWfTq58Srma8v7K23Rwuk8qt0TEIYCIOCSp/OPvC4BnKs4bTLHjaX90vFzm5VTXkKTDwFzg9dEfKmktpV4GLS0tFAqF02y+WfX6+vomPKerq+uMygP+Plvd1fqnK8b6MyfGiY9X5uRgxAZgA0B7e3t0dnaeRhPNam/58uU8/fTTzJgxgxMnTry3Xb58Of6eWqM43buMXk3DQKTtayk+CCysOK8VOJjirWPER5SR1AxcyMlDVGbT2lNPPcXy5cspjYiWftdo+fLlPPXUU3VumVn1TjchbAXWpP01wBMV8VXpzqHFlCaPd6fhpSOSlqX5gZtHlSnXtRLYEeX/q8wayFNPPcWJEyf4yOe/yYkTJ5wMrOFMOGQkKQ90Ah+SNAh8Abgb2CwpCxwAbgCIiH2SNgMvAEPA7RExnKq6jdIdS7OBJ9MLIAc8LGmAUs9gVU2uzMzMJmXChBARq09xqPsU5/cCvWPE9wBtY8TfISUUMzOrHz+pbGZmgBOCmZklTghmZgY4IZiZWeI1le2c8ok/eprDb5/99Y4Xrf+bs/4ZF86eyQ++sPysf46dO5wQ7Jxy+O3j/Pju3z6rn1EoFKbk6eSpSDp2bvGQkZmZAU4IZmaWOCGYmRngOQQ7x1yQWc8/3rT+7H/QpolPOVMXZADO7nyInVucEOyccqR4tyeVzU7BCcHOOVPyD+m3p+a2U7NackKwc8rZ7h1AKeFMxeeY1Zonlc3MDHBCMDOzZNokBEnXSHpR0oCkKbgNxMzMKk2LhCCpCfhz4FrgcmC1pMvr2yozs3PLtEgIwFJgICJ+FBHvAo8CK+rcJjOzc8p0uctoAfByxftB4DdHnyRpLbAWoKWlhUKhMCWNs3NbV1fXpMvonsl/Tl9f3+QLmdXQdEkIGiMWJwUiNgAbANrb22MqHv4xizjpqziuqXowzazWpsuQ0SCwsOJ9K3CwTm0xMzsnTZeE8F1giaTFks4DVgFb69wmM7NzyrQYMoqIIUm/DzwFNAF/ERH76twsM7NzyrRICAAR8S3gW/Vuh5nZuWq6DBmZmVmdOSGYmRnghGBmZokTgpmZAaDJPnQzXUj6GfCTerfDbAwfAl6vdyPMTuEjEfHhsQ40bEIwm64k7YmI9nq3w2yyPGRkZmaAE4KZmSVOCGa1t6HeDTA7HZ5DMDMzwD0EMzNLnBDMzAxwQrAGJel6SSHp42dQx0ZJK9P+g7Vex1vSH456f7SW9ZvVmhOCNarVQD+ltTPOWET8m4h4oRZ1VfjDiU8xmz6cEKzhSDof+BSQJSUESZ2SviPpcUkvSPqKpBnp2FFJfyzpe5K2SzrpKU1JBUntaf+adO4PJG1PsaWS/lbS99P2Yyl+i6SvS/q2pJckfSnF7wZmS3pO0iOjPqszfd4WST+U9IgkpWOfTPX/QNJuSRdImiXpq5L2ps/vqvjsb0j6a0n7Jf2+pP+YznlG0sXpvH+U2vespP9zJr0qe5+LCL/8aqgXcBOQS/t/C/wG0Am8A/wapUWWtgEr0zkB3Jj2/zPw5bS/seKcAtAOfBh4GVic4hen7RygOe1/Bvha2r8F+BFwITCL0s+pLEzHjo5q99G07QQOU1oqdgawE+gAzkt1fbLyM4E/AL6aYh8HDqTPugUYAC5I7T4M/Lt03r3A59L+dmBJ2v9NYEe9/xv6NT1f02aBHLNJWA38Sdp/NL3/G2B3RPwIQFKe0j+yW4ATwGPp/L8Evj5O3cuA70TEfoCIeCPFLwQ2SVpCKcHMrCizPSIOp899AfgIpaQynt0RMZjKPAcsovQP+qGI+G767F+m4x3An6XYDyX9BPhoqqcvIo4ARyQdBv46xfcC/yT1pn4L+KvUCQH4lQnaZucoJwRrKJLmAp8G2iQFpd5AUFptb/RDNad6yGa8h290iuNfpPSP7/WSFlHqUZQdq9gfprr/r8Yqc6rP1hixseo5UfH+RKpzBvCLiLiyijbZOc5zCNZoVgIPRcRHImJRRCwE9lPqDSyVtDjNHfwepUlnKH3PV6b9f1kRH8tO4J9LWgxQHoen1EN4Je3fUmVbj0uaOfFp7/khcImkT6bPvkBSM/Ad4MYU+yhwKfBiNRWmXsZ+STek8pL0iUm0yc4hTgjWaFYDj4+KfY3SP/Q7gbuB5yklifJ5bwFXSHqWUu/iv56q8oj4GbAW+LqkH/APQ01fAv6bpP9LqVdSjQ3A342eVB7ns9+llMj+LH32NkpzBfcDTZL2pvbcEhHHTl3TSW4EsqnOfcCKSZS1c4h/usLeFyR1Av8pIn5njGNHI+L8KW+UWYNxD8HMzAD3EMzMLHEPwczMACcEMzNLnBDMzAxwQjAzs8QJwczMAPj/FZJf0Hx7P/wAAAAASUVORK5CYII=\n",
      "text/plain": [
       "<Figure size 432x288 with 1 Axes>"
      ]
     },
     "metadata": {
      "needs_background": "light"
     },
     "output_type": "display_data"
    }
   ],
   "source": [
    "# Box Plot for variable ApplicantIncome of training data set\n",
    "\n",
    "df.boxplot(column='ApplicantIncome')"
   ]
  },
  {
   "cell_type": "markdown",
   "metadata": {},
   "source": [
    "3. The above Box Plot confirms the presence of a lot of outliers/extreme values. This can be attributed to the income disparity in the society. "
   ]
  },
  {
   "cell_type": "code",
   "execution_count": 8,
   "metadata": {},
   "outputs": [
    {
     "data": {
      "text/plain": [
       "<AxesSubplot:title={'center':'ApplicantIncome'}, xlabel='Education'>"
      ]
     },
     "execution_count": 8,
     "metadata": {},
     "output_type": "execute_result"
    },
    {
     "data": {
      "image/png": "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\n",
      "text/plain": [
       "<Figure size 432x288 with 1 Axes>"
      ]
     },
     "metadata": {
      "needs_background": "light"
     },
     "output_type": "display_data"
    }
   ],
   "source": [
    "# Box Plot for variable ApplicantIncome by variable Education of training data set\n",
    "\n",
    "df.boxplot(column='ApplicantIncome', by = 'Education')"
   ]
  },
  {
   "cell_type": "markdown",
   "metadata": {},
   "source": [
    "4. We can see that there is no substantial different between the mean income of graduate and non-graduates. But there are a higher number of graduates with very high incomes, which are appearing to be the outliers"
   ]
  },
  {
   "cell_type": "code",
   "execution_count": 9,
   "metadata": {},
   "outputs": [
    {
     "data": {
      "text/plain": [
       "<AxesSubplot:>"
      ]
     },
     "execution_count": 9,
     "metadata": {},
     "output_type": "execute_result"
    },
    {
     "data": {
      "image/png": "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\n",
      "text/plain": [
       "<Figure size 432x288 with 1 Axes>"
      ]
     },
     "metadata": {
      "needs_background": "light"
     },
     "output_type": "display_data"
    }
   ],
   "source": [
    "# Histogram of variable LoanAmount\n",
    "\n",
    "df['LoanAmount'].hist(bins=50)"
   ]
  },
  {
   "cell_type": "code",
   "execution_count": 10,
   "metadata": {},
   "outputs": [
    {
     "data": {
      "text/plain": [
       "<AxesSubplot:>"
      ]
     },
     "execution_count": 10,
     "metadata": {},
     "output_type": "execute_result"
    },
    {
     "data": {
      "image/png": "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\n",
      "text/plain": [
       "<Figure size 432x288 with 1 Axes>"
      ]
     },
     "metadata": {
      "needs_background": "light"
     },
     "output_type": "display_data"
    }
   ],
   "source": [
    "# Box Plot for variable LoanAmount of training data set\n",
    "\n",
    "df.boxplot(column='LoanAmount')"
   ]
  },
  {
   "cell_type": "code",
   "execution_count": 11,
   "metadata": {},
   "outputs": [
    {
     "data": {
      "text/plain": [
       "<AxesSubplot:title={'center':'LoanAmount'}, xlabel='Gender'>"
      ]
     },
     "execution_count": 11,
     "metadata": {},
     "output_type": "execute_result"
    },
    {
     "data": {
      "image/png": "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\n",
      "text/plain": [
       "<Figure size 432x288 with 1 Axes>"
      ]
     },
     "metadata": {
      "needs_background": "light"
     },
     "output_type": "display_data"
    }
   ],
   "source": [
    "# Box Plot for variable LoanAmount by variable Gender of training data set\n",
    "\n",
    "df.boxplot(column='LoanAmount', by = 'Gender')"
   ]
  },
  {
   "cell_type": "markdown",
   "metadata": {},
   "source": [
    "5. LoanAmount has missing as well as extreme values, while ApplicantIncome has a few extreme values."
   ]
  },
  {
   "cell_type": "markdown",
   "metadata": {},
   "source": [
    "# Understanding Distribution of Categorical Variables"
   ]
  },
  {
   "cell_type": "code",
   "execution_count": 12,
   "metadata": {},
   "outputs": [
    {
     "name": "stdout",
     "output_type": "stream",
     "text": [
      "422\n"
     ]
    }
   ],
   "source": [
    "# Loan approval rates in absolute numbers\n",
    "loan_approval = df['Loan_Status'].value_counts()['Y']\n",
    "print(loan_approval)"
   ]
  },
  {
   "cell_type": "markdown",
   "metadata": {},
   "source": [
    "- 422 number of loans were approved."
   ]
  },
  {
   "cell_type": "code",
   "execution_count": 13,
   "metadata": {},
   "outputs": [
    {
     "data": {
      "text/html": [
       "<div>\n",
       "<style scoped>\n",
       "    .dataframe tbody tr th:only-of-type {\n",
       "        vertical-align: middle;\n",
       "    }\n",
       "\n",
       "    .dataframe tbody tr th {\n",
       "        vertical-align: top;\n",
       "    }\n",
       "\n",
       "    .dataframe thead th {\n",
       "        text-align: right;\n",
       "    }\n",
       "</style>\n",
       "<table border=\"1\" class=\"dataframe\">\n",
       "  <thead>\n",
       "    <tr style=\"text-align: right;\">\n",
       "      <th>Loan_Status</th>\n",
       "      <th>N</th>\n",
       "      <th>Y</th>\n",
       "      <th>All</th>\n",
       "    </tr>\n",
       "    <tr>\n",
       "      <th>Credit_History</th>\n",
       "      <th></th>\n",
       "      <th></th>\n",
       "      <th></th>\n",
       "    </tr>\n",
       "  </thead>\n",
       "  <tbody>\n",
       "    <tr>\n",
       "      <th>0.0</th>\n",
       "      <td>82</td>\n",
       "      <td>7</td>\n",
       "      <td>89</td>\n",
       "    </tr>\n",
       "    <tr>\n",
       "      <th>1.0</th>\n",
       "      <td>97</td>\n",
       "      <td>378</td>\n",
       "      <td>475</td>\n",
       "    </tr>\n",
       "    <tr>\n",
       "      <th>All</th>\n",
       "      <td>179</td>\n",
       "      <td>385</td>\n",
       "      <td>564</td>\n",
       "    </tr>\n",
       "  </tbody>\n",
       "</table>\n",
       "</div>"
      ],
      "text/plain": [
       "Loan_Status       N    Y  All\n",
       "Credit_History               \n",
       "0.0              82    7   89\n",
       "1.0              97  378  475\n",
       "All             179  385  564"
      ]
     },
     "execution_count": 13,
     "metadata": {},
     "output_type": "execute_result"
    }
   ],
   "source": [
    "# Credit History and Loan Status\n",
    "pd.crosstab(df ['Credit_History'], df ['Loan_Status'], margins=True)"
   ]
  },
  {
   "cell_type": "code",
   "execution_count": 14,
   "metadata": {},
   "outputs": [],
   "source": [
    "#Function to output percentage row wise in a cross table\n",
    "def percentageConvert(ser):\n",
    "    return ser/float(ser[-1])\n",
    "\n",
    "# # Loan approval rate for customers having Credit_History (1)\n",
    "#df['Y'] = pd.crosstab(df [\"Credit_History\"], df [\"Loan_Status\"], margins=True).apply(percentageConvert, axis=1)\n",
    "#loan_approval_with_Credit_1 = df['Y'][1]\n",
    "#print(loan_approval_with_Credit_1*100)"
   ]
  },
  {
   "cell_type": "markdown",
   "metadata": {},
   "source": [
    "- 79.58 % of the applicants whose loans were approved have Credit_History equals to 1."
   ]
  },
  {
   "cell_type": "code",
   "execution_count": 15,
   "metadata": {},
   "outputs": [
    {
     "data": {
      "text/html": [
       "<div>\n",
       "<style scoped>\n",
       "    .dataframe tbody tr th:only-of-type {\n",
       "        vertical-align: middle;\n",
       "    }\n",
       "\n",
       "    .dataframe tbody tr th {\n",
       "        vertical-align: top;\n",
       "    }\n",
       "\n",
       "    .dataframe thead th {\n",
       "        text-align: right;\n",
       "    }\n",
       "</style>\n",
       "<table border=\"1\" class=\"dataframe\">\n",
       "  <thead>\n",
       "    <tr style=\"text-align: right;\">\n",
       "      <th></th>\n",
       "      <th>Loan_ID</th>\n",
       "      <th>Gender</th>\n",
       "      <th>Married</th>\n",
       "      <th>Dependents</th>\n",
       "      <th>Education</th>\n",
       "      <th>Self_Employed</th>\n",
       "      <th>ApplicantIncome</th>\n",
       "      <th>CoapplicantIncome</th>\n",
       "      <th>LoanAmount</th>\n",
       "      <th>Loan_Amount_Term</th>\n",
       "      <th>Credit_History</th>\n",
       "      <th>Property_Area</th>\n",
       "      <th>Loan_Status</th>\n",
       "    </tr>\n",
       "  </thead>\n",
       "  <tbody>\n",
       "    <tr>\n",
       "      <th>0</th>\n",
       "      <td>LP001002</td>\n",
       "      <td>Male</td>\n",
       "      <td>No</td>\n",
       "      <td>0</td>\n",
       "      <td>Graduate</td>\n",
       "      <td>No</td>\n",
       "      <td>5849</td>\n",
       "      <td>0.0</td>\n",
       "      <td>NaN</td>\n",
       "      <td>360.0</td>\n",
       "      <td>1.0</td>\n",
       "      <td>Urban</td>\n",
       "      <td>Y</td>\n",
       "    </tr>\n",
       "    <tr>\n",
       "      <th>1</th>\n",
       "      <td>LP001003</td>\n",
       "      <td>Male</td>\n",
       "      <td>Yes</td>\n",
       "      <td>1</td>\n",
       "      <td>Graduate</td>\n",
       "      <td>No</td>\n",
       "      <td>4583</td>\n",
       "      <td>1508.0</td>\n",
       "      <td>128.0</td>\n",
       "      <td>360.0</td>\n",
       "      <td>1.0</td>\n",
       "      <td>Rural</td>\n",
       "      <td>N</td>\n",
       "    </tr>\n",
       "    <tr>\n",
       "      <th>2</th>\n",
       "      <td>LP001005</td>\n",
       "      <td>Male</td>\n",
       "      <td>Yes</td>\n",
       "      <td>0</td>\n",
       "      <td>Graduate</td>\n",
       "      <td>Yes</td>\n",
       "      <td>3000</td>\n",
       "      <td>0.0</td>\n",
       "      <td>66.0</td>\n",
       "      <td>360.0</td>\n",
       "      <td>1.0</td>\n",
       "      <td>Urban</td>\n",
       "      <td>Y</td>\n",
       "    </tr>\n",
       "    <tr>\n",
       "      <th>3</th>\n",
       "      <td>LP001006</td>\n",
       "      <td>Male</td>\n",
       "      <td>Yes</td>\n",
       "      <td>0</td>\n",
       "      <td>Not Graduate</td>\n",
       "      <td>No</td>\n",
       "      <td>2583</td>\n",
       "      <td>2358.0</td>\n",
       "      <td>120.0</td>\n",
       "      <td>360.0</td>\n",
       "      <td>1.0</td>\n",
       "      <td>Urban</td>\n",
       "      <td>Y</td>\n",
       "    </tr>\n",
       "    <tr>\n",
       "      <th>4</th>\n",
       "      <td>LP001008</td>\n",
       "      <td>Male</td>\n",
       "      <td>No</td>\n",
       "      <td>0</td>\n",
       "      <td>Graduate</td>\n",
       "      <td>No</td>\n",
       "      <td>6000</td>\n",
       "      <td>0.0</td>\n",
       "      <td>141.0</td>\n",
       "      <td>360.0</td>\n",
       "      <td>1.0</td>\n",
       "      <td>Urban</td>\n",
       "      <td>Y</td>\n",
       "    </tr>\n",
       "  </tbody>\n",
       "</table>\n",
       "</div>"
      ],
      "text/plain": [
       "    Loan_ID Gender Married Dependents     Education Self_Employed  \\\n",
       "0  LP001002   Male      No          0      Graduate            No   \n",
       "1  LP001003   Male     Yes          1      Graduate            No   \n",
       "2  LP001005   Male     Yes          0      Graduate           Yes   \n",
       "3  LP001006   Male     Yes          0  Not Graduate            No   \n",
       "4  LP001008   Male      No          0      Graduate            No   \n",
       "\n",
       "   ApplicantIncome  CoapplicantIncome  LoanAmount  Loan_Amount_Term  \\\n",
       "0             5849                0.0         NaN             360.0   \n",
       "1             4583             1508.0       128.0             360.0   \n",
       "2             3000                0.0        66.0             360.0   \n",
       "3             2583             2358.0       120.0             360.0   \n",
       "4             6000                0.0       141.0             360.0   \n",
       "\n",
       "   Credit_History Property_Area Loan_Status  \n",
       "0             1.0         Urban           Y  \n",
       "1             1.0         Rural           N  \n",
       "2             1.0         Urban           Y  \n",
       "3             1.0         Urban           Y  \n",
       "4             1.0         Urban           Y  "
      ]
     },
     "execution_count": 15,
     "metadata": {},
     "output_type": "execute_result"
    }
   ],
   "source": [
    "df.head()"
   ]
  },
  {
   "cell_type": "code",
   "execution_count": 16,
   "metadata": {},
   "outputs": [],
   "source": [
    "# Replace missing value of Self_Employed with more frequent category\n",
    "df['Self_Employed'].fillna('No',inplace=True)"
   ]
  },
  {
   "cell_type": "markdown",
   "metadata": {},
   "source": [
    "# Outliers of LoanAmount and Applicant Income"
   ]
  },
  {
   "cell_type": "code",
   "execution_count": 17,
   "metadata": {},
   "outputs": [
    {
     "data": {
      "text/plain": [
       "<AxesSubplot:>"
      ]
     },
     "execution_count": 17,
     "metadata": {},
     "output_type": "execute_result"
    },
    {
     "data": {
      "image/png": "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\n",
      "text/plain": [
       "<Figure size 432x288 with 1 Axes>"
      ]
     },
     "metadata": {
      "needs_background": "light"
     },
     "output_type": "display_data"
    }
   ],
   "source": [
    "# Add both ApplicantIncome and CoapplicantIncome to TotalIncome\n",
    "df['TotalIncome'] = df['ApplicantIncome'] + df['CoapplicantIncome']\n",
    "\n",
    "# Looking at the distribtion of TotalIncome\n",
    "df['LoanAmount'].hist(bins=20)"
   ]
  },
  {
   "cell_type": "markdown",
   "metadata": {},
   "source": [
    "- The extreme values are practically possible, i.e. some people might apply for high value loans due to specific needs. So instead of treating them as outliers, let’s try a log transformation to nullify their effect:"
   ]
  },
  {
   "cell_type": "code",
   "execution_count": 18,
   "metadata": {},
   "outputs": [
    {
     "data": {
      "text/plain": [
       "<AxesSubplot:>"
      ]
     },
     "execution_count": 18,
     "metadata": {},
     "output_type": "execute_result"
    },
    {
     "data": {
      "image/png": "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\n",
      "text/plain": [
       "<Figure size 432x288 with 1 Axes>"
      ]
     },
     "metadata": {
      "needs_background": "light"
     },
     "output_type": "display_data"
    }
   ],
   "source": [
    "# Perform log transformation of TotalIncome to make it closer to normal\n",
    "df['LoanAmount_log'] = np.log(df['LoanAmount'])\n",
    "\n",
    "# Looking at the distribtion of TotalIncome_log\n",
    "df['LoanAmount_log'].hist(bins=20)"
   ]
  },
  {
   "cell_type": "markdown",
   "metadata": {},
   "source": [
    "# Data Preparation for Model Building"
   ]
  },
  {
   "cell_type": "markdown",
   "metadata": {},
   "source": [
    "- sklearn requires all inputs to be numeric, we should convert all our categorical variables into numeric by encoding the categories. Before that we will fill all the missing values in the dataset."
   ]
  },
  {
   "cell_type": "code",
   "execution_count": 19,
   "metadata": {},
   "outputs": [
    {
     "data": {
      "text/plain": [
       "Loan_ID               object\n",
       "Gender                 int32\n",
       "Married                int32\n",
       "Dependents             int32\n",
       "Education              int32\n",
       "Self_Employed          int32\n",
       "ApplicantIncome        int64\n",
       "CoapplicantIncome    float64\n",
       "LoanAmount           float64\n",
       "Loan_Amount_Term     float64\n",
       "Credit_History         int32\n",
       "Property_Area          int32\n",
       "Loan_Status           object\n",
       "TotalIncome          float64\n",
       "LoanAmount_log       float64\n",
       "dtype: object"
      ]
     },
     "execution_count": 19,
     "metadata": {},
     "output_type": "execute_result"
    }
   ],
   "source": [
    "# Impute missing values for Gender\n",
    "df['Gender'].fillna(df['Gender'].mode()[0],inplace=True)\n",
    "\n",
    "# Impute missing values for Married\n",
    "df['Married'].fillna(df['Married'].mode()[0],inplace=True)\n",
    "\n",
    "# Impute missing values for Dependents\n",
    "df['Dependents'].fillna(df['Dependents'].mode()[0],inplace=True)\n",
    "\n",
    "# Impute missing values for Credit_History\n",
    "df['Credit_History'].fillna(df['Credit_History'].mode()[0],inplace=True)\n",
    "\n",
    "# Convert all non-numeric values to number\n",
    "cat=['Gender','Married','Dependents','Education','Self_Employed','Credit_History','Property_Area']\n",
    "\n",
    "for var in cat:\n",
    "    le = preprocessing.LabelEncoder()\n",
    "    df[var]=le.fit_transform(df[var].astype('str'))\n",
    "df.dtypes"
   ]
  },
  {
   "cell_type": "markdown",
   "metadata": {},
   "source": [
    "# Generic Classification Function"
   ]
  },
  {
   "cell_type": "code",
   "execution_count": 25,
   "metadata": {},
   "outputs": [],
   "source": [
    "#Import models from scikit learn module:\n",
    "from sklearn import metrics\n",
    "from sklearn.model_selection import KFold\n",
    "\n",
    "#Generic function for making a classification model and accessing performance:\n",
    "\n",
    "def classification_model(model, data, predictors, outcome):\n",
    "    #Fit the model:\n",
    "    model.fit(data[predictors],data[outcome])\n",
    "  \n",
    "    #Make predictions on training set:\n",
    "    predictions = model.predict(data[predictors])\n",
    "  \n",
    "    #Print accuracy\n",
    "    accuracy = metrics.accuracy_score(predictions,data[outcome])\n",
    "    print (\"Accuracy : %s\" % \"{0:.3%}\".format(accuracy))\n",
    "\n",
    "    #Perform k-fold cross-validation with 5 folds\n",
    "    kf = KFold(data.shape[0], n_folds=5)\n",
    "    error = []\n",
    "    for train, test in kf:\n",
    "        # Filter training data\n",
    "        train_predictors = (data[predictors].iloc[train,:])\n",
    "    \n",
    "        # The target we're using to train the algorithm.\n",
    "        train_target = data[outcome].iloc[train]\n",
    "    \n",
    "        # Training the algorithm using the predictors and target.\n",
    "        model.fit(train_predictors, train_target)\n",
    "    \n",
    "        #Record error from each cross-validation run\n",
    "        error.append(model.score(data[predictors].iloc[test,:], data[outcome].iloc[test]))\n",
    " \n",
    "    print (\"Cross-Validation Score : %s\" % \"{0:.3%}\".format(np.mean(error)))\n",
    "\n",
    "    #Fit the model again so that it can be refered outside the function:\n",
    "    model.fit(data[predictors],data[outcome])"
   ]
  },
  {
   "cell_type": "markdown",
   "metadata": {},
   "source": [
    "# Model Building"
   ]
  },
  {
   "cell_type": "code",
   "execution_count": 26,
   "metadata": {},
   "outputs": [
    {
     "data": {
      "text/plain": [
       "Loan_ID                0\n",
       "Gender                11\n",
       "Married                0\n",
       "Dependents            10\n",
       "Education              0\n",
       "Self_Employed         23\n",
       "ApplicantIncome        0\n",
       "CoapplicantIncome      0\n",
       "LoanAmount            27\n",
       "Loan_Amount_Term      20\n",
       "Credit_History        29\n",
       "Property_Area          0\n",
       "Loan_Status          367\n",
       "TotalIncome          367\n",
       "LoanAmount_log       389\n",
       "Type                   0\n",
       "dtype: int64"
      ]
     },
     "execution_count": 26,
     "metadata": {},
     "output_type": "execute_result"
    }
   ],
   "source": [
    "#Combining both train and test dataset\n",
    "\n",
    "#Create a flag for Train and Test Data set\n",
    "df['Type']='Train' \n",
    "test['Type']='Test'\n",
    "fullData = pd.concat([df,test], axis=0)\n",
    "\n",
    "#Look at the available missing values in the dataset\n",
    "fullData.isnull().sum()"
   ]
  },
  {
   "cell_type": "code",
   "execution_count": 27,
   "metadata": {},
   "outputs": [],
   "source": [
    "#Identify categorical and continuous variables\n",
    "ID_col = ['Loan_ID']\n",
    "target_col = [\"Loan_Status\"]\n",
    "cat_cols = ['Credit_History','Dependents','Gender','Married','Education','Property_Area','Self_Employed']"
   ]
  },
  {
   "cell_type": "code",
   "execution_count": 28,
   "metadata": {},
   "outputs": [],
   "source": [
    "#Imputing Missing values with mean for continuous variable\n",
    "fullData['LoanAmount'].fillna(fullData['LoanAmount'].mean(), inplace=True)\n",
    "fullData['LoanAmount_log'].fillna(fullData['LoanAmount_log'].mean(), inplace=True)\n",
    "fullData['Loan_Amount_Term'].fillna(fullData['Loan_Amount_Term'].mean(), inplace=True)\n",
    "fullData['ApplicantIncome'].fillna(fullData['ApplicantIncome'].mean(), inplace=True)\n",
    "fullData['CoapplicantIncome'].fillna(fullData['CoapplicantIncome'].mean(), inplace=True)\n",
    "\n",
    "#Imputing Missing values with mode for categorical variables\n",
    "fullData['Gender'].fillna(fullData['Gender'].mode()[0], inplace=True)\n",
    "fullData['Married'].fillna(fullData['Married'].mode()[0], inplace=True)\n",
    "fullData['Dependents'].fillna(fullData['Dependents'].mode()[0], inplace=True)\n",
    "fullData['Loan_Amount_Term'].fillna(fullData['Loan_Amount_Term'].mode()[0], inplace=True)\n",
    "fullData['Credit_History'].fillna(fullData['Credit_History'].mode()[0], inplace=True)"
   ]
  },
  {
   "cell_type": "code",
   "execution_count": 29,
   "metadata": {},
   "outputs": [
    {
     "data": {
      "text/plain": [
       "<AxesSubplot:>"
      ]
     },
     "execution_count": 29,
     "metadata": {},
     "output_type": "execute_result"
    },
    {
     "data": {
      "image/png": "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\n",
      "text/plain": [
       "<Figure size 432x288 with 1 Axes>"
      ]
     },
     "metadata": {
      "needs_background": "light"
     },
     "output_type": "display_data"
    }
   ],
   "source": [
    "#Create a new column as Total Income\n",
    "\n",
    "fullData['TotalIncome']=fullData['ApplicantIncome'] + fullData['CoapplicantIncome']\n",
    "\n",
    "fullData['TotalIncome_log'] = np.log(fullData['TotalIncome'])\n",
    "\n",
    "#Histogram for Total Income\n",
    "fullData['TotalIncome_log'].hist(bins=20) "
   ]
  },
  {
   "cell_type": "code",
   "execution_count": 31,
   "metadata": {},
   "outputs": [
    {
     "name": "stderr",
     "output_type": "stream",
     "text": [
      "C:\\Users\\balaji\\AppData\\Local\\Temp\\ipykernel_19924\\4226165730.py:8: SettingWithCopyWarning: \n",
      "A value is trying to be set on a copy of a slice from a DataFrame.\n",
      "Try using .loc[row_indexer,col_indexer] = value instead\n",
      "\n",
      "See the caveats in the documentation: https://pandas.pydata.org/pandas-docs/stable/user_guide/indexing.html#returning-a-view-versus-a-copy\n",
      "  train_modified[\"Loan_Status\"] = number.fit_transform(train_modified[\"Loan_Status\"].astype('str'))\n"
     ]
    }
   ],
   "source": [
    "#create label encoders for categorical features\n",
    "for var in cat_cols:\n",
    "    number = LabelEncoder()\n",
    "    fullData[var] = number.fit_transform(fullData[var].astype('str'))\n",
    "\n",
    "train_modified=fullData[fullData['Type']=='Train']\n",
    "test_modified=fullData[fullData['Type']=='Test']\n",
    "train_modified[\"Loan_Status\"] = number.fit_transform(train_modified[\"Loan_Status\"].astype('str'))"
   ]
  },
  {
   "cell_type": "markdown",
   "metadata": {},
   "source": [
    "## Logistic Regression Model"
   ]
  },
  {
   "cell_type": "markdown",
   "metadata": {},
   "source": [
    "1. The chances of getting a loan will be higher for:\n",
    "\n",
    "    - Applicants having a credit history (we observed this in exploration.)\n",
    "    - Applicants with higher applicant and co-applicant incomes\n",
    "    - Applicants with higher education level\n",
    "    - Properties in urban areas with high growth perspectives\n",
    "\n",
    "So let’s make our model with ‘Credit_History’, 'Education' & 'Gender'"
   ]
  },
  {
   "cell_type": "code",
   "execution_count": 32,
   "metadata": {},
   "outputs": [],
   "source": [
    "from sklearn.linear_model import LogisticRegression\n",
    "\n",
    "\n",
    "predictors_Logistic=['Credit_History','Education','Gender']\n",
    "\n",
    "x_train = train_modified[list(predictors_Logistic)].values\n",
    "y_train = train_modified[\"Loan_Status\"].values\n",
    "\n",
    "x_test=test_modified[list(predictors_Logistic)].values"
   ]
  },
  {
   "cell_type": "code",
   "execution_count": 34,
   "metadata": {},
   "outputs": [
    {
     "name": "stdout",
     "output_type": "stream",
     "text": [
      "Accuracy : 80.945%\n"
     ]
    },
    {
     "name": "stderr",
     "output_type": "stream",
     "text": [
      "C:\\Users\\balaji\\AppData\\Local\\Temp\\ipykernel_19924\\2407784976.py:14: SettingWithCopyWarning: \n",
      "A value is trying to be set on a copy of a slice from a DataFrame.\n",
      "Try using .loc[row_indexer,col_indexer] = value instead\n",
      "\n",
      "See the caveats in the documentation: https://pandas.pydata.org/pandas-docs/stable/user_guide/indexing.html#returning-a-view-versus-a-copy\n",
      "  test_modified['Loan_Status']=predicted\n"
     ]
    },
    {
     "ename": "TypeError",
     "evalue": "__init__() got an unexpected keyword argument 'n_folds'",
     "output_type": "error",
     "traceback": [
      "\u001b[1;31m---------------------------------------------------------------------------\u001b[0m",
      "\u001b[1;31mTypeError\u001b[0m                                 Traceback (most recent call last)",
      "Input \u001b[1;32mIn [34]\u001b[0m, in \u001b[0;36m<cell line: 18>\u001b[1;34m()\u001b[0m\n\u001b[0;32m     14\u001b[0m test_modified[\u001b[38;5;124m'\u001b[39m\u001b[38;5;124mLoan_Status\u001b[39m\u001b[38;5;124m'\u001b[39m]\u001b[38;5;241m=\u001b[39mpredicted\n\u001b[0;32m     16\u001b[0m outcome_var \u001b[38;5;241m=\u001b[39m \u001b[38;5;124m'\u001b[39m\u001b[38;5;124mLoan_Status\u001b[39m\u001b[38;5;124m'\u001b[39m\n\u001b[1;32m---> 18\u001b[0m \u001b[43mclassification_model\u001b[49m\u001b[43m(\u001b[49m\u001b[43mmodel\u001b[49m\u001b[43m,\u001b[49m\u001b[43m \u001b[49m\u001b[43mdf\u001b[49m\u001b[43m,\u001b[49m\u001b[43mpredictors_Logistic\u001b[49m\u001b[43m,\u001b[49m\u001b[43moutcome_var\u001b[49m\u001b[43m)\u001b[49m\n\u001b[0;32m     20\u001b[0m test_modified\u001b[38;5;241m.\u001b[39mto_csv(\u001b[38;5;124m\"\u001b[39m\u001b[38;5;124mLogistic_Prediction.csv\u001b[39m\u001b[38;5;124m\"\u001b[39m,columns\u001b[38;5;241m=\u001b[39m[\u001b[38;5;124m'\u001b[39m\u001b[38;5;124mLoan_ID\u001b[39m\u001b[38;5;124m'\u001b[39m,\u001b[38;5;124m'\u001b[39m\u001b[38;5;124mLoan_Status\u001b[39m\u001b[38;5;124m'\u001b[39m])\n",
      "Input \u001b[1;32mIn [25]\u001b[0m, in \u001b[0;36mclassification_model\u001b[1;34m(model, data, predictors, outcome)\u001b[0m\n\u001b[0;32m     16\u001b[0m \u001b[38;5;28mprint\u001b[39m (\u001b[38;5;124m\"\u001b[39m\u001b[38;5;124mAccuracy : \u001b[39m\u001b[38;5;132;01m%s\u001b[39;00m\u001b[38;5;124m\"\u001b[39m \u001b[38;5;241m%\u001b[39m \u001b[38;5;124m\"\u001b[39m\u001b[38;5;132;01m{0:.3%}\u001b[39;00m\u001b[38;5;124m\"\u001b[39m\u001b[38;5;241m.\u001b[39mformat(accuracy))\n\u001b[0;32m     18\u001b[0m \u001b[38;5;66;03m#Perform k-fold cross-validation with 5 folds\u001b[39;00m\n\u001b[1;32m---> 19\u001b[0m kf \u001b[38;5;241m=\u001b[39m \u001b[43mKFold\u001b[49m\u001b[43m(\u001b[49m\u001b[43mdata\u001b[49m\u001b[38;5;241;43m.\u001b[39;49m\u001b[43mshape\u001b[49m\u001b[43m[\u001b[49m\u001b[38;5;241;43m0\u001b[39;49m\u001b[43m]\u001b[49m\u001b[43m,\u001b[49m\u001b[43m \u001b[49m\u001b[43mn_folds\u001b[49m\u001b[38;5;241;43m=\u001b[39;49m\u001b[38;5;241;43m5\u001b[39;49m\u001b[43m)\u001b[49m\n\u001b[0;32m     20\u001b[0m error \u001b[38;5;241m=\u001b[39m []\n\u001b[0;32m     21\u001b[0m \u001b[38;5;28;01mfor\u001b[39;00m train, test \u001b[38;5;129;01min\u001b[39;00m kf:\n\u001b[0;32m     22\u001b[0m     \u001b[38;5;66;03m# Filter training data\u001b[39;00m\n",
      "\u001b[1;31mTypeError\u001b[0m: __init__() got an unexpected keyword argument 'n_folds'"
     ]
    }
   ],
   "source": [
    "# Create logistic regression object\n",
    "model = LogisticRegression()\n",
    "\n",
    "# Train the model using the training sets\n",
    "model.fit(x_train, y_train)\n",
    "\n",
    "#Predict Output\n",
    "predicted= model.predict(x_test)\n",
    "\n",
    "#Reverse encoding for predicted outcome\n",
    "predicted = number.inverse_transform(predicted)\n",
    "\n",
    "#Store it to test dataset\n",
    "test_modified['Loan_Status']=predicted\n",
    "\n",
    "outcome_var = 'Loan_Status'\n",
    "\n",
    "classification_model(model, df,predictors_Logistic,outcome_var)\n",
    "\n",
    "test_modified.to_csv(\"Logistic_Prediction.csv\",columns=['Loan_ID','Loan_Status'])"
   ]
  },
  {
   "cell_type": "code",
   "execution_count": null,
   "metadata": {},
   "outputs": [],
   "source": []
  },
  {
   "cell_type": "code",
   "execution_count": null,
   "metadata": {},
   "outputs": [],
   "source": []
  },
  {
   "cell_type": "code",
   "execution_count": null,
   "metadata": {},
   "outputs": [],
   "source": []
  },
  {
   "cell_type": "code",
   "execution_count": null,
   "metadata": {},
   "outputs": [],
   "source": []
  }
 ],
 "metadata": {
  "kernelspec": {
   "display_name": "Python 3 (ipykernel)",
   "language": "python",
   "name": "python3"
  },
  "language_info": {
   "codemirror_mode": {
    "name": "ipython",
    "version": 3
   },
   "file_extension": ".py",
   "mimetype": "text/x-python",
   "name": "python",
   "nbconvert_exporter": "python",
   "pygments_lexer": "ipython3",
   "version": "3.8.5"
  }
 },
 "nbformat": 4,
 "nbformat_minor": 2
}
